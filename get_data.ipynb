{
 "cells": [
  {
   "cell_type": "markdown",
   "metadata": {},
   "source": [
    "# Notebook to demonstrate data pipeline for open source data\n",
    "\n",
    "Intended collection footprint:\n",
    "\n",
    "* Metadata\n",
    "* License\n",
    "* Data"
   ]
  },
  {
   "cell_type": "code",
   "execution_count": 1,
   "metadata": {},
   "outputs": [],
   "source": [
    "import pandas as pd\n",
    "import os\n",
    "import requests\n",
    "import json\n",
    "from datetime import datetime"
   ]
  },
  {
   "cell_type": "code",
   "execution_count": 2,
   "metadata": {},
   "outputs": [
    {
     "ename": "NameError",
     "evalue": "name 'self' is not defined",
     "output_type": "error",
     "traceback": [
      "\u001b[1;31m---------------------------------------------------------------------------\u001b[0m",
      "\u001b[1;31mNameError\u001b[0m                                 Traceback (most recent call last)",
      "\u001b[1;32mc:\\Users\\anirb\\Documents\\Projects\\open_data_pipeline\\src\\get_data.ipynb Cell 3\u001b[0m line \u001b[0;36m1\n\u001b[1;32m----> <a href='vscode-notebook-cell:/c%3A/Users/anirb/Documents/Projects/open_data_pipeline/src/get_data.ipynb#W2sZmlsZQ%3D%3D?line=0'>1</a>\u001b[0m \u001b[39mclass\u001b[39;00m \u001b[39mopenData\u001b[39;00m(\u001b[39mself\u001b[39m):\n\u001b[0;32m      <a href='vscode-notebook-cell:/c%3A/Users/anirb/Documents/Projects/open_data_pipeline/src/get_data.ipynb#W2sZmlsZQ%3D%3D?line=1'>2</a>\u001b[0m     \u001b[39mdef\u001b[39;00m \u001b[39m__init__\u001b[39m(\u001b[39mself\u001b[39m):\n\u001b[0;32m      <a href='vscode-notebook-cell:/c%3A/Users/anirb/Documents/Projects/open_data_pipeline/src/get_data.ipynb#W2sZmlsZQ%3D%3D?line=2'>3</a>\u001b[0m         \u001b[39mself\u001b[39m\u001b[39m.\u001b[39mtoday \u001b[39m=\u001b[39m datetime\u001b[39m.\u001b[39mtoday()\u001b[39m.\u001b[39mstrftime(\u001b[39m'\u001b[39m\u001b[39m%\u001b[39m\u001b[39mY-\u001b[39m\u001b[39m%\u001b[39m\u001b[39mm-\u001b[39m\u001b[39m%d\u001b[39;00m\u001b[39m'\u001b[39m)\n",
      "\u001b[1;31mNameError\u001b[0m: name 'self' is not defined"
     ]
    }
   ],
   "source": [
    "class openData(self):\n",
    "    def __init__(self):\n",
    "        self.today = datetime.today().strftime('%Y-%m-%d')\n",
    "\n",
    "    def get_worldbank_data(self, url):\n",
    "        page=1\n",
    "        all_data = []\n",
    "        request_delay = 1\n",
    "        total_page = 1\n",
    "        last_update = ''\n",
    "        status = ''\n",
    "        source = 'World Bank'\n",
    "\n",
    "        while page <= total_page:\n",
    "            response = requests.get(url + f\"&page={page}\")\n",
    "            if response.status_code == 200:\n",
    "                data = json.loads(response.text)\n",
    "                if total_page ==1:\n",
    "                    total_page = data[0]['pages']\n",
    "                    last_update = data[0]['lastupdated']\n",
    "                all_data.extend(data[1])\n",
    "                page += 1\n",
    "                time.sleep(request_delay)\n",
    "            else:\n",
    "                status = f\"Request failed with status code {response.status_code}\"\n",
    "\n",
    "        return [all_data, status, last_update, source, self.today]"
   ]
  },
  {
   "cell_type": "code",
   "execution_count": null,
   "metadata": {},
   "outputs": [],
   "source": [
    "df_index = pd.DataFrame([{'key':'SL.TLF.ACTI.ZS','unit':'Percentage','extra':'','topic':'Economic','subtopic':'Labor','grain':'Year','var_id':'econ01'}])"
   ]
  },
  {
   "cell_type": "code",
   "execution_count": 3,
   "metadata": {},
   "outputs": [
    {
     "ename": "ModuleNotFoundError",
     "evalue": "No module named 'openData'",
     "output_type": "error",
     "traceback": [
      "\u001b[1;31m---------------------------------------------------------------------------\u001b[0m",
      "\u001b[1;31mModuleNotFoundError\u001b[0m                       Traceback (most recent call last)",
      "\u001b[1;32mc:\\Users\\anirb\\Documents\\Projects\\open_data_pipeline\\src\\get_data.ipynb Cell 5\u001b[0m line \u001b[0;36m1\n\u001b[1;32m----> <a href='vscode-notebook-cell:/c%3A/Users/anirb/Documents/Projects/open_data_pipeline/src/get_data.ipynb#W4sZmlsZQ%3D%3D?line=0'>1</a>\u001b[0m \u001b[39mimport\u001b[39;00m \u001b[39mopenData\u001b[39;00m\n\u001b[0;32m      <a href='vscode-notebook-cell:/c%3A/Users/anirb/Documents/Projects/open_data_pipeline/src/get_data.ipynb#W4sZmlsZQ%3D%3D?line=1'>2</a>\u001b[0m key \u001b[39m=\u001b[39m \u001b[39m'\u001b[39m\u001b[39mSL.TLF.ACTI.ZS\u001b[39m\u001b[39m'\u001b[39m\n\u001b[0;32m      <a href='vscode-notebook-cell:/c%3A/Users/anirb/Documents/Projects/open_data_pipeline/src/get_data.ipynb#W4sZmlsZQ%3D%3D?line=2'>3</a>\u001b[0m extra \u001b[39m=\u001b[39m \u001b[39m'\u001b[39m\u001b[39m'\u001b[39m\n",
      "\u001b[1;31mModuleNotFoundError\u001b[0m: No module named 'openData'"
     ]
    }
   ],
   "source": [
    "import openData\n",
    "key = 'SL.TLF.ACTI.ZS'\n",
    "extra = ''\n",
    "url = f\"https://api.worldbank.org/v2/country/all/indicator/{key}?format=json{extra}&per_page=1000\"\n",
    "result = openData.get_worldbank_data(url)"
   ]
  }
 ],
 "metadata": {
  "kernelspec": {
   "display_name": "ml_env",
   "language": "python",
   "name": "python3"
  },
  "language_info": {
   "codemirror_mode": {
    "name": "ipython",
    "version": 3
   },
   "file_extension": ".py",
   "mimetype": "text/x-python",
   "name": "python",
   "nbconvert_exporter": "python",
   "pygments_lexer": "ipython3",
   "version": "3.11.5"
  }
 },
 "nbformat": 4,
 "nbformat_minor": 2
}
